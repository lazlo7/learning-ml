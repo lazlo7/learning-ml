{
 "cells": [
  {
   "attachments": {},
   "cell_type": "markdown",
   "metadata": {},
   "source": [
    "Problem: Try to predict the following function:\n",
    "| x | f(x) |\n",
    "|---|------|\n",
    "| 1 | 1.5  |\n",
    "| 2 | 3    |\n",
    "| 3 | 4.5  |\n",
    "| 10| 15   |\n",
    "|...| ...  |   \n",
    "\n",
    "It's assumed that the function is linear."
   ]
  },
  {
   "cell_type": "code",
   "execution_count": 125,
   "metadata": {},
   "outputs": [],
   "source": [
    "# Given data.\n",
    "values = {1: 1.5,\n",
    "          2: 3,\n",
    "          3: 4.5,\n",
    "          10: 15}"
   ]
  },
  {
   "cell_type": "code",
   "execution_count": 126,
   "metadata": {},
   "outputs": [],
   "source": [
    "# Only using numpy for random number generation.\n",
    "import numpy as np"
   ]
  },
  {
   "attachments": {},
   "cell_type": "markdown",
   "metadata": {},
   "source": [
    "Let's construct a simple model: `y = a + bx`.  \n",
    "Our goal is to adjust the parameters `a` and `b` in a such way\n",
    "so that the model will yield data found in the problem description.  \n",
    "Since at the start the values of the parameters are not known,\n",
    "we'll just initialize them with random values between `0` and `1`. "
   ]
  },
  {
   "cell_type": "code",
   "execution_count": 127,
   "metadata": {},
   "outputs": [],
   "source": [
    "a = np.random.random()\n",
    "b = np.random.random()"
   ]
  },
  {
   "attachments": {},
   "cell_type": "markdown",
   "metadata": {},
   "source": [
    "Next, simply try to feed the `x`'s into the model and see what happens."
   ]
  },
  {
   "cell_type": "code",
   "execution_count": 128,
   "metadata": {},
   "outputs": [],
   "source": [
    "def model(x, a, b):\n",
    "    return a + b * x"
   ]
  },
  {
   "cell_type": "code",
   "execution_count": 129,
   "metadata": {},
   "outputs": [
    {
     "name": "stdout",
     "output_type": "stream",
     "text": [
      "x = 1 | predicted = 0.4036528146603541 | actual = 1.5\n",
      "x = 2 | predicted = 0.6304484165589826 | actual = 3\n",
      "x = 3 | predicted = 0.8572440184576112 | actual = 4.5\n",
      "x = 10 | predicted = 2.4448132317480114 | actual = 15\n"
     ]
    }
   ],
   "source": [
    "for x, y in values.items():\n",
    "    predicted = model(x, a, b)\n",
    "    print(f\"x = {x} | predicted = {predicted} | actual = {y}\")"
   ]
  },
  {
   "attachments": {},
   "cell_type": "markdown",
   "metadata": {},
   "source": [
    "We need to compare the \"quality\" of the results. We do that by introducing the \"error\" parameter into the model.  \n",
    "Consider the new model `y = a + bx + e`, where `e` is the error parameter.  \n",
    "We can find the error of the prediction by rearranging the equation: `e = y - a - bx`.  "
   ]
  },
  {
   "cell_type": "code",
   "execution_count": 130,
   "metadata": {},
   "outputs": [],
   "source": [
    "def error(x, y, a, b):\n",
    "    return y - a - b * x"
   ]
  },
  {
   "attachments": {},
   "cell_type": "markdown",
   "metadata": {},
   "source": [
    "Let's find the error for each `x`"
   ]
  },
  {
   "cell_type": "code",
   "execution_count": 131,
   "metadata": {},
   "outputs": [
    {
     "name": "stdout",
     "output_type": "stream",
     "text": [
      "x = 1 | predicted = 0.4036528146603541 | actual = 1.5 | error = 1.0963471853396458\n",
      "x = 2 | predicted = 0.6304484165589826 | actual = 3 | error = 2.3695515834410172\n",
      "x = 3 | predicted = 0.8572440184576112 | actual = 4.5 | error = 3.642755981542389\n",
      "x = 10 | predicted = 2.4448132317480114 | actual = 15 | error = 12.555186768251989\n"
     ]
    }
   ],
   "source": [
    "for x, y in values.items():\n",
    "    predicted = model(x, a, b)\n",
    "    err = error(x, y, a, b)\n",
    "    print(f\"x = {x} | predicted = {predicted} | actual = {y} | error = {err}\")"
   ]
  },
  {
   "attachments": {},
   "cell_type": "markdown",
   "metadata": {},
   "source": [
    "The error value varies for each given `x`.  \n",
    "What we really want is to measure the \"quality\" of the model's parameters.  \n",
    "The thing is, our model actually looks like this: `y_i = a + bx_i + e`, where `i` is the i-th \"row\" in the data set.  \n",
    "The error needs to represent the whole model, not individual results.  \n",
    "We can do that by measuring the error using the MSE (Mean Squared Error) method.  \n",
    "This way, `Model's Error = MSE = 1/n * sum(i = 1, n, e^2) = 1/n * sum(i = 1, n, (y_i - a - bx_i)^2)`."
   ]
  },
  {
   "cell_type": "code",
   "execution_count": 132,
   "metadata": {},
   "outputs": [
    {
     "name": "stdout",
     "output_type": "stream",
     "text": [
      "x = 1 | predicted = 0.4036528146603541 | actual = 1.5\n",
      "x = 2 | predicted = 0.6304484165589826 | actual = 3\n",
      "x = 3 | predicted = 0.8572440184576112 | actual = 4.5\n",
      "x = 10 | predicted = 2.4448132317480114 | actual = 15\n",
      "Error: 44.42978444603567\n"
     ]
    }
   ],
   "source": [
    "mse = 0\n",
    "for x, y in values.items():\n",
    "    predicted = model(x, a, b)\n",
    "    mse += (y - predicted)**2\n",
    "    print(f\"x = {x} | predicted = {predicted} | actual = {y}\")\n",
    "\n",
    "n = len(values)\n",
    "mse /= n\n",
    "print(f\"Error: {mse}\")"
   ]
  },
  {
   "attachments": {},
   "cell_type": "markdown",
   "metadata": {},
   "source": [
    "We now need to find a way to make the error go down.  \n",
    "Derivative denotes the rate at which the function changes at the given point.  \n",
    "By taking derivatives, we can figure out in which direction on the number line \n",
    "we need to go to decrease the error.  \n",
    "Let's try using the limit definition of the derivative to get the rate of change for both parameters.  \n",
    "First of all, we need to define the MSE function. "
   ]
  },
  {
   "cell_type": "code",
   "execution_count": 133,
   "metadata": {},
   "outputs": [],
   "source": [
    "def mse(a, b):\n",
    "    sum = 0\n",
    "    for x, y in values.items():\n",
    "        sum += (y - model(x, a, b))**2\n",
    "    return sum / n"
   ]
  },
  {
   "attachments": {},
   "cell_type": "markdown",
   "metadata": {},
   "source": [
    "Let's then compute partial derivatives for `a` and `b`."
   ]
  },
  {
   "cell_type": "code",
   "execution_count": 134,
   "metadata": {},
   "outputs": [
    {
     "name": "stdout",
     "output_type": "stream",
     "text": [
      "Error = 44.42978444603567 | Derivative for a = -9.831921943259658 | Derivative for b = -71.15772859833669\n"
     ]
    }
   ],
   "source": [
    "err = mse(a, b)\n",
    "\n",
    "change = 1e-10\n",
    "deriv_a = (mse(a + change, b) - err) / change\n",
    "deriv_b = (mse(a, b + change) - err) / change\n",
    "print(f\"Error = {err} | Derivative for a = {deriv_a} | Derivative for b = {deriv_b}\")"
   ]
  },
  {
   "cell_type": "code",
   "execution_count": 135,
   "metadata": {},
   "outputs": [
    {
     "name": "stdout",
     "output_type": "stream",
     "text": [
      "Adjusted error = 1.2256092203110068e-19\n"
     ]
    }
   ],
   "source": [
    "a_adj, b_adj = a, b\n",
    "learning_rate = 1e-3\n",
    "\n",
    "for i in range(int(1e6)):\n",
    "    err = mse(a_adj, b_adj)\n",
    "    deriv_a = (mse(a_adj + change, b_adj) - err) / change\n",
    "    deriv_b = (mse(a_adj, b_adj + change) - err) / change\n",
    "    a_adj -= deriv_a * learning_rate\n",
    "    b_adj -= deriv_b * learning_rate\n",
    "\n",
    "print(f\"Adjusted error = {mse(a_adj, b_adj)}\")"
   ]
  },
  {
   "cell_type": "code",
   "execution_count": 136,
   "metadata": {},
   "outputs": [
    {
     "name": "stdout",
     "output_type": "stream",
     "text": [
      "3.420181998180499e-10 1.4999999999019955\n"
     ]
    }
   ],
   "source": [
    "print(a_adj, b_adj)"
   ]
  },
  {
   "attachments": {},
   "cell_type": "markdown",
   "metadata": {},
   "source": [
    "We predict that `a = 3.42e-10` and `b = 1.499`, which is almost correct.  \n",
    "Let's move the train process into a function."
   ]
  },
  {
   "cell_type": "code",
   "execution_count": 137,
   "metadata": {},
   "outputs": [],
   "source": [
    "def train():\n",
    "    a_adj, b_adj = a, b\n",
    "    learning_rate = 1e-4\n",
    "    train_count = int(1e6)\n",
    "\n",
    "    for i in range(train_count):\n",
    "        err = mse(a_adj, b_adj)\n",
    "        deriv_a = (mse(a_adj + change, b_adj) - err) / change\n",
    "        deriv_b = (mse(a_adj, b_adj + change) - err) / change\n",
    "        a_adj -= deriv_a * learning_rate\n",
    "        b_adj -= deriv_b * learning_rate\n",
    "\n",
    "        if i % (train_count // 10 - 1) == 0:\n",
    "            print(f\"Error: {err}\")\n",
    "\n",
    "    return a_adj, b_adj"
   ]
  },
  {
   "cell_type": "code",
   "execution_count": 138,
   "metadata": {},
   "outputs": [
    {
     "name": "stdout",
     "output_type": "stream",
     "text": [
      "Error: 44.42978444603567\n",
      "Error: 1.8329820320695041e-09\n",
      "Error: 6.586626172217763e-17\n",
      "Error: 1.2328759496676343e-19\n",
      "Error: 1.2265886813310832e-19\n",
      "Error: 1.2265886813310832e-19\n",
      "Error: 1.2265886813310832e-19\n",
      "Error: 1.2265886813310832e-19\n",
      "Error: 1.2265886813310832e-19\n",
      "Error: 1.2265886813310832e-19\n",
      "Error: 1.2265886813310832e-19\n",
      "(3.421780719246051e-10, 1.4999999999019555)\n"
     ]
    }
   ],
   "source": [
    "print(train())"
   ]
  },
  {
   "attachments": {},
   "cell_type": "markdown",
   "metadata": {},
   "source": [
    "Let's now try to change our original linear function.  \n",
    "1\\. `f(x) = -1.23x`"
   ]
  },
  {
   "cell_type": "code",
   "execution_count": 139,
   "metadata": {},
   "outputs": [
    {
     "name": "stdout",
     "output_type": "stream",
     "text": [
      "Error: 16.455649167543953\n",
      "Error: 2.1697338008843056e-14\n",
      "Error: 1.8921025478213232e-20\n",
      "Error: 1.8944914390007656e-20\n",
      "Error: 1.8944914390007656e-20\n",
      "Error: 1.8945022265355938e-20\n",
      "Error: 1.8944914390007656e-20\n",
      "Error: 1.8944914390007656e-20\n",
      "Error: 1.8944914390007656e-20\n",
      "Error: 1.8944914390007656e-20\n",
      "Error: 1.8944914390007656e-20\n",
      "(2.0149659727128603e-11, -1.2300000000526128)\n"
     ]
    }
   ],
   "source": [
    "values = {1: -1.23,\n",
    "          5: -6.15,\n",
    "          -2: 2.46}\n",
    "print(train())"
   ]
  },
  {
   "attachments": {},
   "cell_type": "markdown",
   "metadata": {},
   "source": [
    "2\\. `f(x) = -2x + 5`"
   ]
  },
  {
   "cell_type": "code",
   "execution_count": 140,
   "metadata": {},
   "outputs": [
    {
     "name": "stdout",
     "output_type": "stream",
     "text": [
      "Error: 33.156363362426944\n",
      "Error: 4.850034158245847e-10\n",
      "Error: 2.869766391302962e-20\n",
      "Error: 1.8805762816629418e-20\n",
      "Error: 1.8805762816629418e-20\n",
      "Error: 1.8805762816629418e-20\n",
      "Error: 1.8805762816629418e-20\n",
      "Error: 1.8805762816629418e-20\n",
      "Error: 1.8805762816629418e-20\n",
      "Error: 1.8805762816629418e-20\n",
      "Error: 1.8805762816629418e-20\n",
      "(5.00000000001643, -2.000000000052043)\n"
     ]
    }
   ],
   "source": [
    "values = {1: 3,\n",
    "          5: -5,\n",
    "          -2: 9}\n",
    "print(train())"
   ]
  },
  {
   "attachments": {},
   "cell_type": "markdown",
   "metadata": {},
   "source": [
    "3\\. `f(x) = 42`"
   ]
  },
  {
   "cell_type": "code",
   "execution_count": 141,
   "metadata": {},
   "outputs": [
    {
     "name": "stdout",
     "output_type": "stream",
     "text": [
      "Error: 1293.296616605647\n",
      "Error: 3.2073749073454766e-08\n",
      "Error: 9.67196261041692e-19\n",
      "Error: 1.879460350644769e-20\n",
      "Error: 1.879460350644769e-20\n",
      "Error: 1.879460350644769e-20\n",
      "Error: 1.879460350644769e-20\n",
      "Error: 1.879460350644769e-20\n",
      "Error: 1.879460350644769e-20\n",
      "Error: 1.879460350644769e-20\n",
      "Error: 1.879460350644769e-20\n",
      "(41.99999999999147, -4.886331328963345e-11)\n"
     ]
    }
   ],
   "source": [
    "values = {1: 42,\n",
    "          5: 42,\n",
    "          -2: 42}\n",
    "print(train())"
   ]
  },
  {
   "attachments": {},
   "cell_type": "markdown",
   "metadata": {},
   "source": [
    "4\\. `f(x) = 0`"
   ]
  },
  {
   "cell_type": "code",
   "execution_count": 142,
   "metadata": {},
   "outputs": [
    {
     "name": "stdout",
     "output_type": "stream",
     "text": [
      "Error: 0.48945156912041243\n",
      "Error: 3.7960494549195224e-13\n",
      "Error: 1.9162306954700235e-20\n",
      "Error: 1.9003379196739e-20\n",
      "Error: 1.9003378378383388e-20\n",
      "Error: 1.900337837838041e-20\n",
      "Error: 1.900337837838041e-20\n",
      "Error: 1.900337837838041e-20\n",
      "Error: 1.900337837838041e-20\n",
      "Error: 1.900337837838041e-20\n",
      "Error: 1.900337837838041e-20\n",
      "(2.027027027028683e-11, -5.270270270270707e-11)\n"
     ]
    }
   ],
   "source": [
    "values = {1: 0,\n",
    "          5: 0,\n",
    "          -2: 0}\n",
    "print(train())"
   ]
  },
  {
   "attachments": {},
   "cell_type": "markdown",
   "metadata": {},
   "source": [
    "5\\. `f(x) = 3.1415x - 2.7183`"
   ]
  },
  {
   "cell_type": "code",
   "execution_count": 143,
   "metadata": {},
   "outputs": [
    {
     "name": "stdout",
     "output_type": "stream",
     "text": [
      "Error: 53.12565950482776\n",
      "Error: 2.016098671253905e-10\n",
      "Error: 2.871108297902418e-20\n",
      "Error: 1.9168263739925843e-20\n",
      "Error: 1.9168263739925843e-20\n",
      "Error: 1.9168263739925843e-20\n",
      "Error: 1.9168263739925843e-20\n",
      "Error: 1.9168263739925843e-20\n",
      "Error: 1.9168263739925843e-20\n",
      "Error: 1.9168263739925843e-20\n",
      "Error: 1.9168263739925843e-20\n",
      "(-2.718299999977689, 3.1414999999468773)\n"
     ]
    }
   ],
   "source": [
    "values = {1: 0.4232,\n",
    "          5: 12.9892,\n",
    "          -2: -9.0013}\n",
    "print(train())"
   ]
  }
 ],
 "metadata": {
  "kernelspec": {
   "display_name": "Python 3",
   "language": "python",
   "name": "python3"
  },
  "language_info": {
   "codemirror_mode": {
    "name": "ipython",
    "version": 3
   },
   "file_extension": ".py",
   "mimetype": "text/x-python",
   "name": "python",
   "nbconvert_exporter": "python",
   "pygments_lexer": "ipython3",
   "version": "3.11.3"
  },
  "orig_nbformat": 4
 },
 "nbformat": 4,
 "nbformat_minor": 2
}
